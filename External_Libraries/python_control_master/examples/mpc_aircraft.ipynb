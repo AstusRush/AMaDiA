{
 "cells": [
  {
   "cell_type": "markdown",
   "metadata": {},
   "source": [
    "# Model Predictive Control: Aircraft Model\n",
    "\n",
    "RMM, 13 Feb 2021\n",
    "\n",
    "This example replicates the [MPT3 regulation problem example](https://www.mpt3.org/UI/RegulationProblem)."
   ]
  },
  {
   "cell_type": "code",
   "execution_count": 2,
   "metadata": {},
   "outputs": [],
   "source": [
    "import control as ct\n",
    "import numpy as np\n",
    "import control.optimal as opt\n",
    "import matplotlib.pyplot as plt"
   ]
  },
  {
   "cell_type": "code",
   "execution_count": 3,
   "metadata": {},
   "outputs": [],
   "source": [
    "# model of an aircraft discretized with 0.2s sampling time\n",
    "# Source: https://www.mpt3.org/UI/RegulationProblem\n",
    "A = [[0.99, 0.01, 0.18, -0.09,   0],\n",
    "     [   0, 0.94,    0,  0.29,   0],\n",
    "     [   0, 0.14, 0.81,  -0.9,   0],\n",
    "     [   0, -0.2,    0,  0.95,   0],\n",
    "     [   0, 0.09,    0,     0, 0.9]]\n",
    "B = [[ 0.01, -0.02],\n",
    "     [-0.14,     0],\n",
    "     [ 0.05,  -0.2],\n",
    "     [ 0.02,     0],\n",
    "     [-0.01, 0]]\n",
    "C = [[0, 1, 0, 0, -1],\n",
    "     [0, 0, 1, 0,  0],\n",
    "     [0, 0, 0, 1,  0],\n",
    "     [1, 0, 0, 0,  0]]\n",
    "model = ct.ss2io(ct.ss(A, B, C, 0, 0.2))\n",
    "\n",
    "# For the simulation we need the full state output\n",
    "sys = ct.ss2io(ct.ss(A, B, np.eye(5), 0, 0.2))\n",
    "\n",
    "# compute the steady state values for a particular value of the input\n",
    "ud = np.array([0.8, -0.3])\n",
    "xd = np.linalg.inv(np.eye(5) - A) @ B @ ud\n",
    "yd = C @ xd"
   ]
  },
  {
   "cell_type": "code",
   "execution_count": 4,
   "metadata": {},
   "outputs": [],
   "source": [
    "# computed values will be used as references for the desired\n",
    "# steady state which can be added using \"reference\" filter\n",
    "# model.u.with('reference');\n",
    "# model.u.reference = us;\n",
    "# model.y.with('reference');\n",
    "# model.y.reference = ys;\n",
    "\n",
    "# provide constraints on the system signals\n",
    "constraints = [opt.input_range_constraint(sys, [-5, -6], [5, 6])]\n",
    "\n",
    "# provide penalties on the system signals\n",
    "Q = model.C.transpose() @ np.diag([10, 10, 10, 10]) @ model.C\n",
    "R = np.diag([3, 2])\n",
    "cost = opt.quadratic_cost(model, Q, R, x0=xd, u0=ud)\n",
    "\n",
    "# online MPC controller object is constructed with a horizon 6\n",
    "ctrl = opt.create_mpc_iosystem(model, np.arange(0, 6) * 0.2, cost, constraints)"
   ]
  },
  {
   "cell_type": "code",
   "execution_count": 7,
   "metadata": {},
   "outputs": [
    {
     "name": "stdout",
     "output_type": "stream",
     "text": [
      "System: sys[7]\n",
      "Inputs (2): u[0], u[1], \n",
      "Outputs (5): y[0], y[1], y[2], y[3], y[4], \n",
      "States (17): sys[1]_x[0], sys[1]_x[1], sys[1]_x[2], sys[1]_x[3], sys[1]_x[4], sys[6]_x[0], sys[6]_x[1], sys[6]_x[2], sys[6]_x[3], sys[6]_x[4], sys[6]_x[5], sys[6]_x[6], sys[6]_x[7], sys[6]_x[8], sys[6]_x[9], sys[6]_x[10], sys[6]_x[11], \n"
     ]
    }
   ],
   "source": [
    "# Define an I/O system implementing model predictive control\n",
    "loop = ct.feedback(sys, ctrl, 1)\n",
    "print(loop)"
   ]
  },
  {
   "cell_type": "code",
   "execution_count": 9,
   "metadata": {},
   "outputs": [
    {
     "name": "stdout",
     "output_type": "stream",
     "text": [
      "Computation time = 8.28132 seconds\n"
     ]
    }
   ],
   "source": [
    "import time\n",
    "\n",
    "# loop = ClosedLoop(ctrl, model);\n",
    "# x0 = [0, 0, 0, 0, 0]\n",
    "Nsim = 60\n",
    "\n",
    "start = time.time()\n",
    "tout, xout = ct.input_output_response(loop, np.arange(0, Nsim) * 0.2, 0, 0)\n",
    "end = time.time()\n",
    "print(\"Computation time = %g seconds\" % (end-start))"
   ]
  },
  {
   "cell_type": "code",
   "execution_count": 10,
   "metadata": {},
   "outputs": [
    {
     "data": {
      "text/plain": [
       "array([-0.15441833,  0.00362039,  0.07760278,  0.00675162,  0.00698118])"
      ]
     },
     "execution_count": 10,
     "metadata": {},
     "output_type": "execute_result"
    },
    {
     "data": {
      "image/png": "[encoded data removed]",
      "text/plain": [
       "<Figure size 432x288 with 1 Axes>"
      ]
     },
     "metadata": {
      "needs_background": "light"
     },
     "output_type": "display_data"
    }
   ],
   "source": [
    "# Plot the results\n",
    "# plt.subplot(2, 1, 1)\n",
    "for i, y in enumerate(C @ xout):\n",
    "    plt.plot(tout, y)\n",
    "    plt.plot(tout, yd[i] * np.ones(tout.shape), 'k--')\n",
    "plt.title('outputs')\n",
    "\n",
    "# plt.subplot(2, 1, 2)\n",
    "# plt.plot(t, u);\n",
    "# plot(np.range(Nsim), us*ones(1, Nsim), 'k--')\n",
    "# plt.title('inputs')\n",
    "\n",
    "plt.tight_layout()\n",
    "\n",
    "# Print the final error\n",
    "xd - xout[:,-1]"
   ]
  }
 ],
 "metadata": {
  "kernelspec": {
   "display_name": "Python 3",
   "language": "python",
   "name": "python3"
  },
  "language_info": {
   "codemirror_mode": {
    "name": "ipython",
    "version": 3
   },
   "file_extension": ".py",
   "mimetype": "text/x-python",
   "name": "python",
   "nbconvert_exporter": "python",
   "pygments_lexer": "ipython3",
   "version": "3.8.5"
  }
 },
 "nbformat": 4,
 "nbformat_minor": 4
}
